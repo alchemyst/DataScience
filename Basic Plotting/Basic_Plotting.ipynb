{
 "cells": [
  {
   "cell_type": "markdown",
   "metadata": {},
   "source": [
    "Basic plotting\n",
    "===\n",
    "\n",
    "This tutorial covers basic line plotting (Yt plots) and scatter plots (XY plots)\n",
    "\n",
    "Yt plots are convenient for anything where the x-axis is fixed, for example time. This type of data is common for experiments where a variable like temperature is measured over time:\n",
    "\n",
    "<img style=\"float:left\" src=\"F1.png\" width=\"300\" >\n",
    "<div style=\"clear: both;\"></div>\n",
    "\n",
    "In addition, most characterization techniques also have a manipulated input or measurement which is fixed, for example 2$\\theta$ in X-ray diffraction or wavenumber shift [cm$^{-1}$] in Raman spectroscopy.\n",
    "\n",
    "<br>\n",
    "<img style=\"float:left\" src=\"F2.jpg\" width=\"300\">\n",
    "<div style=\"clear: both;\"></div>\n",
    "\n",
    "XY plots are used to compare two experimental variables for a set of experiments, for example glass transition temperature and softening point:\n",
    "\n",
    "<img style=\"float:left\" src=\"F3.jpg\" width=\"300\">\n",
    "<div style=\"clear: both;\"></div>\n",
    "\n",
    "The objective here is to demonstrate how easy it is to visualize these types of data in Python. While you can do it in Excel, there are several issues. \n",
    "\n",
    "Firstly, clear communication. For report or scientific paper writing it makes life easier if everything is in a standard format which everyone can easily understand. The standard Excel plots are usually not suitable for scientific data making them difficult to read, not to mention the fact that everyone has their favourite type of plot which can misrepresent certain types of data making them difficult to interpret. \n",
    "\n",
    "Secondly, consistency. If you set up a nice plot with proper scalings, annotations, legends, subsampling and so on, you will need to redo it each time you have a slightly different data set. This becomes very tedious! Imagine having to reformat the XRD, Raman, FTIR and TGA characterizations you might do to all look the same... With Python your graphs will always feel consistent and there will be harmony across your paper or report. \n",
    "\n",
    "Another problem with Excel is large data sets, if you conducted an experiment over a day it becomes difficult to handle the information and plots can take several annoying minutes to display, even when copied to Word.\n",
    "\n",
    "The most important reason however, is data munging or wrangling. Experiments never go as you thought they would, there are always small problems that arise: a not so clever colleague that disturbs the rig or a data collector that crashes. This is true of any real world data set. One of the most painful tasks on planet earth is correcting multiple, large data sets in Excel for minor glitches. In Python there are many ways in which data can be visualized in an interactive manner so you can play with it, change it, figure it out and come to clear conclusions. These topics are covered in the advanced tutorial.\n",
    "\n",
    "This tutorial is aimed at making your life easier by giving you a quick 5 minute tour of plots and giving you a reference which you can easily use again and again to visualize your data sensibly."
   ]
  },
  {
   "cell_type": "markdown",
   "metadata": {
    "collapsed": true
   },
   "source": [
    "Importing raw data\n",
    "===\n",
    "\n",
    "In our labs the most common data type is Yt. We use National Instruments hardware and LabView as the data capturing software. There are about a million ways to store data, one of the simplest and most common is something called a **.CSV** or comma separated value file. The name says it all, values are measured at a given instance in time, logged and each one is separated using a comma. The comma is known as the \"delimiter\", anything can be used as a delimiter including spaces and tabs. \n",
    "\n",
    "**NOTE** a file does not require the extension .csv to be a comma delimited file, it can have any extension including .txt, as long as the delimiter used was a comma the data reader will read it correctly. To keep things simple the collector stores the date as the first column and time as the second followed by up to eight measured values. Note there are no variable or column names, known as a header, instead data starts from the beginning of the file. This is a standard across all experiments and uses the VI: \"Logging 1 Task M Chan.vi\". \n",
    "\n",
    "We commonly use three modules, which you are familiar with for data visualization and calculations, first import these. "
   ]
  },
  {
   "cell_type": "code",
   "execution_count": 1,
   "metadata": {
    "collapsed": true
   },
   "outputs": [],
   "source": [
    "import numpy as np\n",
    "import scipy as sp\n",
    "import matplotlib.pyplot as plt\n",
    "%matplotlib inline"
   ]
  },
  {
   "cell_type": "markdown",
   "metadata": {},
   "source": [
    "The inline command causes the plots to appear neatly in the Notebook rather than popping out into its own window. Next to import the data you can read it directly into a Python script using the Numpy command *genfromtxt*. "
   ]
  },
  {
   "cell_type": "code",
   "execution_count": 2,
   "metadata": {
    "collapsed": true
   },
   "outputs": [],
   "source": [
    "rawdata_np = np.genfromtxt('YtData.csv', delimiter=\",\")"
   ]
  },
  {
   "cell_type": "markdown",
   "metadata": {},
   "source": [
    "Now lets take our first look at the data:"
   ]
  },
  {
   "cell_type": "code",
   "execution_count": 3,
   "metadata": {
    "collapsed": false
   },
   "outputs": [
    {
     "name": "stdout",
     "output_type": "stream",
     "text": [
      "[[    nan     nan  77.819  77.536  25.        nan     nan     nan     nan\n",
      "      nan]\n",
      " [    nan     nan  77.766  77.492  25.        nan     nan     nan     nan\n",
      "      nan]\n",
      " [    nan     nan  77.69   77.457  25.        nan     nan     nan     nan\n",
      "      nan]\n",
      " [    nan     nan  77.685  77.422  25.        nan     nan     nan     nan\n",
      "      nan]]\n"
     ]
    }
   ],
   "source": [
    "print(rawdata_np[0:4,:])"
   ]
  },
  {
   "cell_type": "markdown",
   "metadata": {
    "collapsed": true
   },
   "source": [
    "Already we can see the first issue, Numpy does not recognize the date and time columns, these are very important!\n",
    "\n",
    "Pandas is a module specially developed for handling data in what is called a \"DataFrame\", this is a very powerful data container which we will use extensively. To use Pandas we simply import the module, already included in the Anaconda install. The equivalent Pandas command for reading data from a CSV file is *read_csv*."
   ]
  },
  {
   "cell_type": "code",
   "execution_count": 4,
   "metadata": {
    "collapsed": false
   },
   "outputs": [],
   "source": [
    "import pandas\n",
    "df = pandas.read_csv('YtData.csv')"
   ]
  },
  {
   "cell_type": "markdown",
   "metadata": {},
   "source": [
    "Lets see how Pandas interpreted our file:"
   ]
  },
  {
   "cell_type": "code",
   "execution_count": 5,
   "metadata": {
    "collapsed": false
   },
   "outputs": [
    {
     "data": {
      "text/html": [
       "<div>\n",
       "<table border=\"1\" class=\"dataframe\">\n",
       "  <thead>\n",
       "    <tr style=\"text-align: right;\">\n",
       "      <th></th>\n",
       "      <th>9/1/2016</th>\n",
       "      <th>6:57:08 AM</th>\n",
       "      <th>77.819</th>\n",
       "      <th>77.536</th>\n",
       "      <th>25</th>\n",
       "      <th>Unnamed: 5</th>\n",
       "      <th>Unnamed: 6</th>\n",
       "      <th>Unnamed: 7</th>\n",
       "      <th>Unnamed: 8</th>\n",
       "      <th>Unnamed: 9</th>\n",
       "    </tr>\n",
       "  </thead>\n",
       "  <tbody>\n",
       "    <tr>\n",
       "      <th>0</th>\n",
       "      <td>9/1/2016</td>\n",
       "      <td>6:57:09 AM</td>\n",
       "      <td>77.766</td>\n",
       "      <td>77.492</td>\n",
       "      <td>25</td>\n",
       "      <td>NaN</td>\n",
       "      <td>NaN</td>\n",
       "      <td>NaN</td>\n",
       "      <td>NaN</td>\n",
       "      <td>NaN</td>\n",
       "    </tr>\n",
       "    <tr>\n",
       "      <th>1</th>\n",
       "      <td>9/1/2016</td>\n",
       "      <td>6:57:10 AM</td>\n",
       "      <td>77.690</td>\n",
       "      <td>77.457</td>\n",
       "      <td>25</td>\n",
       "      <td>NaN</td>\n",
       "      <td>NaN</td>\n",
       "      <td>NaN</td>\n",
       "      <td>NaN</td>\n",
       "      <td>NaN</td>\n",
       "    </tr>\n",
       "    <tr>\n",
       "      <th>2</th>\n",
       "      <td>9/1/2016</td>\n",
       "      <td>6:57:11 AM</td>\n",
       "      <td>77.685</td>\n",
       "      <td>77.422</td>\n",
       "      <td>25</td>\n",
       "      <td>NaN</td>\n",
       "      <td>NaN</td>\n",
       "      <td>NaN</td>\n",
       "      <td>NaN</td>\n",
       "      <td>NaN</td>\n",
       "    </tr>\n",
       "    <tr>\n",
       "      <th>3</th>\n",
       "      <td>9/1/2016</td>\n",
       "      <td>6:57:12 AM</td>\n",
       "      <td>77.648</td>\n",
       "      <td>77.392</td>\n",
       "      <td>25</td>\n",
       "      <td>NaN</td>\n",
       "      <td>NaN</td>\n",
       "      <td>NaN</td>\n",
       "      <td>NaN</td>\n",
       "      <td>NaN</td>\n",
       "    </tr>\n",
       "    <tr>\n",
       "      <th>4</th>\n",
       "      <td>9/1/2016</td>\n",
       "      <td>6:57:13 AM</td>\n",
       "      <td>77.625</td>\n",
       "      <td>77.367</td>\n",
       "      <td>25</td>\n",
       "      <td>NaN</td>\n",
       "      <td>NaN</td>\n",
       "      <td>NaN</td>\n",
       "      <td>NaN</td>\n",
       "      <td>NaN</td>\n",
       "    </tr>\n",
       "  </tbody>\n",
       "</table>\n",
       "</div>"
      ],
      "text/plain": [
       "   9/1/2016  6:57:08 AM  77.819  77.536  25  Unnamed: 5  Unnamed: 6  \\\n",
       "0  9/1/2016  6:57:09 AM  77.766  77.492  25         NaN         NaN   \n",
       "1  9/1/2016  6:57:10 AM  77.690  77.457  25         NaN         NaN   \n",
       "2  9/1/2016  6:57:11 AM  77.685  77.422  25         NaN         NaN   \n",
       "3  9/1/2016  6:57:12 AM  77.648  77.392  25         NaN         NaN   \n",
       "4  9/1/2016  6:57:13 AM  77.625  77.367  25         NaN         NaN   \n",
       "\n",
       "   Unnamed: 7  Unnamed: 8  Unnamed: 9  \n",
       "0         NaN         NaN         NaN  \n",
       "1         NaN         NaN         NaN  \n",
       "2         NaN         NaN         NaN  \n",
       "3         NaN         NaN         NaN  \n",
       "4         NaN         NaN         NaN  "
      ]
     },
     "execution_count": 5,
     "metadata": {},
     "output_type": "execute_result"
    }
   ],
   "source": [
    "df.head()"
   ]
  },
  {
   "cell_type": "markdown",
   "metadata": {},
   "source": [
    "A Pandas DataFrame has a specific structure, it expects each column of data (including dates and times) to have a heading. This allows Pandas to recognize each column making it easier to work with and allowing us to do some powerful things such as temporal alignment of different data sets. We can get the correct headings by adding some information to the reading command. To do this you must know what is in your data set, in this case it is real experimental data for the cooling of a phase change energy storage material, or PCM for short. The inner and outer temperature of the PCM is monitored as well as the ambient temperature. This data set only contains three measurements as the remaining columns are blanks or NaN (not a number). Lets add this additional information:"
   ]
  },
  {
   "cell_type": "code",
   "execution_count": 15,
   "metadata": {
    "collapsed": true
   },
   "outputs": [],
   "source": [
    "df = pandas.read_csv('YtData.csv', header=None, usecols=range(5), names=['date', 'time', 'PCM_In', 'PCM_Out', 'Ambient'],\n",
    "                     #parse_dates=[[0, 1]], index_col='date_time')\n",
    "                     )"
   ]
  },
  {
   "cell_type": "code",
   "execution_count": 16,
   "metadata": {
    "collapsed": false
   },
   "outputs": [
    {
     "data": {
      "text/html": [
       "<div>\n",
       "<table border=\"1\" class=\"dataframe\">\n",
       "  <thead>\n",
       "    <tr style=\"text-align: right;\">\n",
       "      <th></th>\n",
       "      <th>date</th>\n",
       "      <th>time</th>\n",
       "      <th>PCM_In</th>\n",
       "      <th>PCM_Out</th>\n",
       "      <th>Ambient</th>\n",
       "    </tr>\n",
       "  </thead>\n",
       "  <tbody>\n",
       "    <tr>\n",
       "      <th>0</th>\n",
       "      <td>9/1/2016</td>\n",
       "      <td>6:57:08 AM</td>\n",
       "      <td>77.819</td>\n",
       "      <td>77.536</td>\n",
       "      <td>25</td>\n",
       "    </tr>\n",
       "    <tr>\n",
       "      <th>1</th>\n",
       "      <td>9/1/2016</td>\n",
       "      <td>6:57:09 AM</td>\n",
       "      <td>77.766</td>\n",
       "      <td>77.492</td>\n",
       "      <td>25</td>\n",
       "    </tr>\n",
       "    <tr>\n",
       "      <th>2</th>\n",
       "      <td>9/1/2016</td>\n",
       "      <td>6:57:10 AM</td>\n",
       "      <td>77.690</td>\n",
       "      <td>77.457</td>\n",
       "      <td>25</td>\n",
       "    </tr>\n",
       "    <tr>\n",
       "      <th>3</th>\n",
       "      <td>9/1/2016</td>\n",
       "      <td>6:57:11 AM</td>\n",
       "      <td>77.685</td>\n",
       "      <td>77.422</td>\n",
       "      <td>25</td>\n",
       "    </tr>\n",
       "    <tr>\n",
       "      <th>4</th>\n",
       "      <td>9/1/2016</td>\n",
       "      <td>6:57:12 AM</td>\n",
       "      <td>77.648</td>\n",
       "      <td>77.392</td>\n",
       "      <td>25</td>\n",
       "    </tr>\n",
       "  </tbody>\n",
       "</table>\n",
       "</div>"
      ],
      "text/plain": [
       "       date        time  PCM_In  PCM_Out  Ambient\n",
       "0  9/1/2016  6:57:08 AM  77.819   77.536       25\n",
       "1  9/1/2016  6:57:09 AM  77.766   77.492       25\n",
       "2  9/1/2016  6:57:10 AM  77.690   77.457       25\n",
       "3  9/1/2016  6:57:11 AM  77.685   77.422       25\n",
       "4  9/1/2016  6:57:12 AM  77.648   77.392       25"
      ]
     },
     "execution_count": 16,
     "metadata": {},
     "output_type": "execute_result"
    }
   ],
   "source": [
    "df.head()"
   ]
  },
  {
   "cell_type": "markdown",
   "metadata": {
    "collapsed": true
   },
   "source": [
    "Much better! Notice how Pandas now ignores the empty columns. The next step is a basic plot, Pandas has its own built-in function for quickly plotting the data frame directly:"
   ]
  },
  {
   "cell_type": "code",
   "execution_count": 17,
   "metadata": {
    "collapsed": false
   },
   "outputs": [
    {
     "data": {
      "image/png": "[encoded data removed]",
      "text/plain": [
       "<matplotlib.figure.Figure at 0x4bd409f898>"
      ]
     },
     "metadata": {},
     "output_type": "display_data"
    }
   ],
   "source": [
    "df.plot();"
   ]
  },
  {
   "cell_type": "markdown",
   "metadata": {
    "collapsed": true
   },
   "source": [
    "Your experimental data will *never* look as perfect at this (remember that \"helpful\" colleague), in general we will always want to tweak the original or *raw* data set, methods to do this are covered in the advanced tutorial. In this discussion we assume you have your final dataset and you just want to plot it to display your awesome results in your paper, report or presentation.\n",
    "\n",
    "So now lets make our data as pretty as ... well, a picture! They say it is worth a thousand words..."
   ]
  },
  {
   "cell_type": "markdown",
   "metadata": {},
   "source": [
    "Yt Plotting\n",
    "===\n",
    "\n",
    "Ambient temperature (the red line, 3rd data column) didn't change much so for now we'll ignore it. When plotting experimental data it is accepted convention to use data markers. The markers indicate that this a discretely measured value for a given experiment. This is as opposed to a model for example which generates a prediction of the data. The prediction would be continuous since we can calculate it for any value of the independent variable. Therefore predictions are usually plotted as continuous lines and experimental data as individual points. \n",
    "\n",
    "While the built in Pandas plotting is useful for quick visualization, we will use the Matplotlib *plot* command to generate clear and consistent plots.\n",
    "\n",
    "First we have to convert the DataFrame time into something we can plot, most convenient for this is the relative time in seconds starting at 0 at the beginning of the experiment."
   ]
  },
  {
   "cell_type": "code",
   "execution_count": 74,
   "metadata": {
    "collapsed": false
   },
   "outputs": [],
   "source": [
    "from datetime import datetime\n",
    "\n",
    "def convert_timestamp(DataTime):\n",
    "    rel_time = np.zeros(len(DataTime))\n",
    "    for i in range(0,len(DataTime)):\n",
    "        time_24 = datetime.strftime(datetime.strptime(DataTime[i], '%I:%M:%S %p'),'%H:%M:%S')\n",
    "        h,m,s = time_24.split(\":\")\n",
    "        rel_time[i] = int(h) * 3600 + int(m) * 60 + int(s[0:2])\n",
    "    rel_time = rel_time - rel_time[0]\n",
    "    return rel_time \n",
    "\n",
    "Time_signal = convert_timestamp(df.time)"
   ]
  },
  {
   "cell_type": "markdown",
   "metadata": {},
   "source": [
    "Now we can tell Matplotlib to plot our data markers:"
   ]
  },
  {
   "cell_type": "code",
   "execution_count": 75,
   "metadata": {
    "collapsed": false
   },
   "outputs": [
    {
     "data": {
      "image/png": "[encoded data removed]",
      "text/plain": [
       "<matplotlib.figure.Figure at 0x4bd3d90ac8>"
      ]
     },
     "metadata": {},
     "output_type": "display_data"
    }
   ],
   "source": [
    "plt.plot(Time_signal, df.PCM_In, 'k^');"
   ]
  },
  {
   "cell_type": "markdown",
   "metadata": {
    "collapsed": true
   },
   "source": [
    "The marker can have any colour and a number of shapes, a list can be found here http://matplotlib.org/api/markers_api.html\n",
    "\n",
    "The problem with most Yt data sets is that in order to accurately detect any changes occurring in the measurement, the resolution must be set very high. In this case the sampling frequency is set to every second but the data set was gathered over an hour, meaning there are thousands of individual measurements. Luckily Python has an easy way of dealing with this, called subsampling. This is done by setting the *markerevery=n* argument, which means every *nth* data point is plotted."
   ]
  },
  {
   "cell_type": "code",
   "execution_count": 79,
   "metadata": {
    "collapsed": false
   },
   "outputs": [
    {
     "data": {
      "image/png": "[encoded data removed]",
      "text/plain": [
       "<matplotlib.figure.Figure at 0x4bd3ea32b0>"
      ]
     },
     "metadata": {},
     "output_type": "display_data"
    }
   ],
   "source": [
    "plt.plot(Time_signal, df.PCM_In, 'k^', markevery=450);"
   ]
  },
  {
   "cell_type": "markdown",
   "metadata": {
    "collapsed": true
   },
   "source": [
    "**Try achieving that as quickly in Excel!** Sometimes if there are multiple data sets which are not smooth, for example a calculation based on the derivative of temperature, it is a good idea to include a continuous line with the markers. This makes it easier to see trends in the data, compare:\n",
    "\n",
    "<img style=\"float:left\" src=\"F4b.png\" width=\"300\">\n",
    "<div style=\"clear: both;\"></div>\n",
    "<br>\n",
    "To:\n",
    "<br>\n",
    "<img style=\"float:left\" src=\"F4.png\" width=\"300\">\n",
    "<div style=\"clear: both;\"></div>\n",
    "\n",
    "This is done by adding an extra dash to the marker argument '-k^'. The next step is to add a legend so we can identify each plot. To do this each line must be identified with its own label. In this experiment the first temperature is the reference material, water, and the second is the sample, a phase change material, PCM for short. Then when we display the legend, the curves will automatically be labeled."
   ]
  },
  {
   "cell_type": "code",
   "execution_count": 80,
   "metadata": {
    "collapsed": false
   },
   "outputs": [
    {
     "data": {
      "image/png": "[encoded data removed]",
      "text/plain": [
       "<matplotlib.figure.Figure at 0x4bd405e240>"
      ]
     },
     "metadata": {},
     "output_type": "display_data"
    }
   ],
   "source": [
    "plt.plot(Time_signal, df.PCM_In, '-bo', markevery=450, label='Water')\n",
    "plt.plot(Time_signal, df.PCM_Out, '-r^', markevery=450, label='PCM')\n",
    "plt.legend(loc=1, numpoints = 1);"
   ]
  },
  {
   "cell_type": "markdown",
   "metadata": {
    "collapsed": true
   },
   "source": [
    "The legend has a variety of adjustable options all of which can be found here: http://matplotlib.org/users/legend_guide.html\n",
    "The final step is to set cosmetic items such as the axis labels, axis scaling, axis intervals, font sizes and so on. The lines themselves also have a variety of adjustable options which are listed online: http://matplotlib.org/api/lines_api.html"
   ]
  },
  {
   "cell_type": "code",
   "execution_count": 84,
   "metadata": {
    "collapsed": false
   },
   "outputs": [
    {
     "data": {
      "image/png": "[encoded data removed]",
      "text/plain": [
       "<matplotlib.figure.Figure at 0x4bd37e82b0>"
      ]
     },
     "metadata": {},
     "output_type": "display_data"
    }
   ],
   "source": [
    "plt.plot(Time_signal, df.PCM_In, '-bo', markevery=450, markersize=10, label='Water')\n",
    "plt.plot(Time_signal, df.PCM_Out, '-r^', markevery=450, markersize=10, label='PCM')\n",
    "plt.legend(loc=1, numpoints = 1, fontsize=20, prop={'size':15})\n",
    "plt.ylabel(u'Temperature [°C]', fontsize=20)\n",
    "plt.xlabel('Time [min]', fontsize=20)\n",
    "plt.xlim(0,20000)\n",
    "plt.grid()\n",
    "plt.tick_params(axis='x', labelsize=20)\n",
    "plt.tick_params(axis='y', labelsize=20)\n",
    "#plt.xticks(np.linspace(0,4000,5));\n",
    "plt.tight_layout();"
   ]
  },
  {
   "cell_type": "markdown",
   "metadata": {},
   "source": [
    "In some cases, for example XRD data, where the dependent or Y variable has no units, it is convenient to remove the y-axis spacing ticks and simply label it **[a.u]**, or \"arbitrary units\", as done for the XRD plot at the start of this tutorial. This is achieved by passing an empty array to the ticks property: *plt.yticks([ ])*. The last line in the previous code segment ensures all labels are placed inside the plot width. This only covers some basic functionality, if you are looking for something fancy or special a good starting point is always http://stackoverflow.com.\n",
    "\n",
    "Another common case is when you have two different items, for example mass loss and its derivative which you want to plot on the same figure to demonstrate a specific event at a certain time or just to save space."
   ]
  },
  {
   "cell_type": "code",
   "execution_count": 17,
   "metadata": {
    "collapsed": true
   },
   "outputs": [],
   "source": [
    "df = pandas.read_csv('Tseries.csv', header=None, names=['Temperature', 'm1', 'a', 'm2'], index_col=0)\n",
    "# Normalise to start at 100%\n",
    "df['m1'] = df.m1/df.m1.iloc[300]*100\n",
    "df['m2'] = df.m2/df.m2.iloc[10]*100"
   ]
  },
  {
   "cell_type": "code",
   "execution_count": 18,
   "metadata": {
    "collapsed": false
   },
   "outputs": [],
   "source": [
    "# Calculate derivatives\n",
    "df['dm1'] = -np.gradient(df.m1)/np.gradient(df.index) - 0.008\n",
    "df['dm2'] = -np.gradient(df.m2)/np.gradient(df.index)"
   ]
  },
  {
   "cell_type": "code",
   "execution_count": 19,
   "metadata": {
    "collapsed": false
   },
   "outputs": [
    {
     "data": {
      "image/png": "[encoded data removed]",
      "text/plain": [
       "<matplotlib.figure.Figure at 0x22e1deddd8>"
      ]
     },
     "metadata": {},
     "output_type": "display_data"
    }
   ],
   "source": [
    "plt.figure()\n",
    "# df[['m1', 'm2']].plot(style=['-r^', '-bo'], markevery=300, markersize=10, label=['Dried', 'Original'])\n",
    "plt.plot(df.index, df.m1, '-r^', markevery=300, markersize=10, label='Dried')\n",
    "plt.plot(df.index, df.m2, '-bo', markevery=300, markersize=10, label='Original')\n",
    "plt.ylim(70,100)\n",
    "plt.xlim(90,650)\n",
    "plt.ylabel('Mass loss [%]', fontsize=20)\n",
    "plt.xlabel('Temperature [°C]', fontsize=20)\n",
    "plt.tick_params(axis='x', labelsize=20)\n",
    "plt.tick_params(axis='y', labelsize=20)\n",
    "plt.annotate('', xy=(500, 88), xytext=(590, 88), fontsize=20, arrowprops=dict(facecolor='black', shrink=0.05),\n",
    "            horizontalalignment='left', verticalalignment='bottom',)\n",
    "plt.annotate('', xy=(500, 83.5), xytext=(590, 83.5), fontsize=20, arrowprops=dict(facecolor='black', shrink=0.05),\n",
    "            horizontalalignment='left', verticalalignment='bottom',)\n",
    "plt.legend(loc=1, numpoints = 1, fontsize=18, prop={'size':13})\n",
    "ax1 = plt.gca()\n",
    "ax2 = ax1.twinx()\n",
    "plt.plot(df.index, df.dm1, 'r^', markevery=300, markersize=10)\n",
    "plt.plot(df.index, df.dm2-0.006, 'bo', markevery=300, markersize=10)\n",
    "plt.ylabel(u'Deriv. mass loss [%/°C]', fontsize=20)\n",
    "plt.tick_params(axis='y', labelsize=20)\n",
    "plt.ylim(0,0.1)\n",
    "plt.tight_layout();"
   ]
  },
  {
   "cell_type": "markdown",
   "metadata": {},
   "source": [
    "In such cases it is good practice to add an annotation. An annotation is a specific additional piece of text or a marker, in this case an arrow, which gives additional information. Sometimes it is not obvious which data axis belongs to which data set, in this case it makes it easier for the reader if we add an arrow from the data pointing to the relevant axis. To include text simply add it in-between the quotation marks ' '."
   ]
  },
  {
   "cell_type": "markdown",
   "metadata": {},
   "source": [
    "XY Plotting\n",
    "===\n",
    "\n",
    "Another common data type is tabular data for a specific set of experiments. In this case for example a single experiment is conducted at certain conditions and the result is logged. Then the experiment is repeated under slightly different conditions and again the result is noted. The most convenient way to keep track of such experiments is a spreadsheet. One such spreadsheet is shown below:\n",
    "\n",
    "<img src=\"F5.png\">\n",
    "\n",
    "In total six experiments were conducted, in some cases the experiment was repeated up to six times. In this case seven variables were measured for each of the experiments. This data is for a solar radiation capture experiment using different starting materials. In addition, the sheet contains an all important \"Comments\" column, this is a space were specific information about that run can be recorded. This is especially valuable later during data analysis when the decision can be made whether the data set is to be pruned, if the comments contain a note that something went wrong this can be done without losing valuable information.\n",
    "\n",
    "***\n",
    "===\n",
    "\n",
    "**To ensure the data collected by every student is formatted in the same way it is COMPULSORY that you use the spreadsheet \"RawData.xlsx\" when recording your experiments!!** This sheet complements your logbook which contains more detailed information for inclusion into your final documentation. Both must be submitted before your report or thesis will be considered for examination. This also holds for situations where Yt data was collected, in that case each experiment in the sheet is accompanied by a .csv data file numbered accordingly.\n",
    "\n",
    "***\n",
    "==="
   ]
  },
  {
   "cell_type": "markdown",
   "metadata": {},
   "source": [
    "Now that we have the data we need to get it into Python so we can start coming to some brilliant conclusions!\n",
    "The first step is conversion into a comma separated value file. To do this, go to the Excel File menu, click on *Save As*. Then from the drop down menu \"Save as type\" select **CSV (Comma delimited) (*.csv)**. When prompted that your file contains features which may be incompatible, simply select **Yes**.\n",
    "This creates a .csv file which is very similar to the one created by LabView, to import it we again use the Numpy command *genfromtxt*"
   ]
  },
  {
   "cell_type": "markdown",
   "metadata": {},
   "source": [
    "pandas supplies a `read_excel` command which works similarly to the `read_csv` command."
   ]
  },
  {
   "cell_type": "code",
   "execution_count": 20,
   "metadata": {
    "collapsed": false
   },
   "outputs": [],
   "source": [
    "rawdata_XY = pandas.read_excel('RawData.xlsx', skiprows=[1,2])"
   ]
  },
  {
   "cell_type": "markdown",
   "metadata": {
    "collapsed": true
   },
   "source": [
    "It is worth mentioning that Excel can easily open a .csv file, when opening, simply select **All Files (***.***)** from the drop down menu and then choose comma as the delimiter if needed. \n",
    "\n",
    "This time it is important to remember that the file contains a header or a segment which has information regarding each of the columns. We can get Python to ignore this section by adding the argument *skip_header=3*, which ignores the top three lines. However, if you are aware of this extra information we can just ignore it when visualizing. So lets take our first look at the data:"
   ]
  },
  {
   "cell_type": "code",
   "execution_count": 21,
   "metadata": {
    "collapsed": false
   },
   "outputs": [
    {
     "data": {
      "text/html": [
       "<div>\n",
       "<table border=\"1\" class=\"dataframe\">\n",
       "  <thead>\n",
       "    <tr style=\"text-align: right;\">\n",
       "      <th></th>\n",
       "      <th>Experiment</th>\n",
       "      <th>Repeat</th>\n",
       "      <th>Var1</th>\n",
       "      <th>Var2</th>\n",
       "      <th>Var3</th>\n",
       "      <th>Var4</th>\n",
       "      <th>Var5</th>\n",
       "      <th>Var6</th>\n",
       "      <th>Var7</th>\n",
       "      <th>Var8</th>\n",
       "      <th>Comments</th>\n",
       "      <th>Date</th>\n",
       "    </tr>\n",
       "  </thead>\n",
       "  <tbody>\n",
       "    <tr>\n",
       "      <th>0</th>\n",
       "      <td>1</td>\n",
       "      <td>1</td>\n",
       "      <td>11.1</td>\n",
       "      <td>62.1</td>\n",
       "      <td>24.3</td>\n",
       "      <td>2.0</td>\n",
       "      <td>0.9</td>\n",
       "      <td>0.30303</td>\n",
       "      <td>600.0</td>\n",
       "      <td>NaN</td>\n",
       "      <td>Problem with measurement: data must be cut</td>\n",
       "      <td>2015-01-01</td>\n",
       "    </tr>\n",
       "    <tr>\n",
       "      <th>1</th>\n",
       "      <td>1</td>\n",
       "      <td>2</td>\n",
       "      <td>11.8</td>\n",
       "      <td>63.5</td>\n",
       "      <td>25.3</td>\n",
       "      <td>2.0</td>\n",
       "      <td>0.9</td>\n",
       "      <td>0.30303</td>\n",
       "      <td>600.0</td>\n",
       "      <td>NaN</td>\n",
       "      <td>No issues data good</td>\n",
       "      <td>2015-01-03</td>\n",
       "    </tr>\n",
       "    <tr>\n",
       "      <th>2</th>\n",
       "      <td>1</td>\n",
       "      <td>3</td>\n",
       "      <td>12.9</td>\n",
       "      <td>65.4</td>\n",
       "      <td>25.4</td>\n",
       "      <td>2.0</td>\n",
       "      <td>0.9</td>\n",
       "      <td>0.30303</td>\n",
       "      <td>600.0</td>\n",
       "      <td>NaN</td>\n",
       "      <td>No issues data good</td>\n",
       "      <td>2015-01-04</td>\n",
       "    </tr>\n",
       "    <tr>\n",
       "      <th>3</th>\n",
       "      <td>1</td>\n",
       "      <td>4</td>\n",
       "      <td>17.8</td>\n",
       "      <td>57.6</td>\n",
       "      <td>28.4</td>\n",
       "      <td>2.0</td>\n",
       "      <td>0.9</td>\n",
       "      <td>0.30303</td>\n",
       "      <td>600.0</td>\n",
       "      <td>NaN</td>\n",
       "      <td>No issues data good</td>\n",
       "      <td>2015-01-05</td>\n",
       "    </tr>\n",
       "    <tr>\n",
       "      <th>4</th>\n",
       "      <td>1</td>\n",
       "      <td>5</td>\n",
       "      <td>21.7</td>\n",
       "      <td>59.0</td>\n",
       "      <td>32.1</td>\n",
       "      <td>2.0</td>\n",
       "      <td>0.9</td>\n",
       "      <td>0.30303</td>\n",
       "      <td>600.0</td>\n",
       "      <td>NaN</td>\n",
       "      <td>No issues data good</td>\n",
       "      <td>2015-01-06</td>\n",
       "    </tr>\n",
       "  </tbody>\n",
       "</table>\n",
       "</div>"
      ],
      "text/plain": [
       "   Experiment  Repeat  Var1  Var2  Var3  Var4  Var5     Var6   Var7  Var8  \\\n",
       "0           1       1  11.1  62.1  24.3   2.0   0.9  0.30303  600.0   NaN   \n",
       "1           1       2  11.8  63.5  25.3   2.0   0.9  0.30303  600.0   NaN   \n",
       "2           1       3  12.9  65.4  25.4   2.0   0.9  0.30303  600.0   NaN   \n",
       "3           1       4  17.8  57.6  28.4   2.0   0.9  0.30303  600.0   NaN   \n",
       "4           1       5  21.7  59.0  32.1   2.0   0.9  0.30303  600.0   NaN   \n",
       "\n",
       "                                     Comments       Date  \n",
       "0  Problem with measurement: data must be cut 2015-01-01  \n",
       "1                         No issues data good 2015-01-03  \n",
       "2                         No issues data good 2015-01-04  \n",
       "3                         No issues data good 2015-01-05  \n",
       "4                         No issues data good 2015-01-06  "
      ]
     },
     "execution_count": 21,
     "metadata": {},
     "output_type": "execute_result"
    }
   ],
   "source": [
    "rawdata_XY.head()"
   ]
  },
  {
   "cell_type": "markdown",
   "metadata": {
    "collapsed": true
   },
   "source": [
    "So far so good, the first column is the experiment number, second the repeat, third the first variable, etc. While Matplotlib does have a scatter plot option (*plt.scatter*) which some specific functionality, it is convenient to keep using the usual plot function with markers, for example:"
   ]
  },
  {
   "cell_type": "code",
   "execution_count": 22,
   "metadata": {
    "collapsed": false
   },
   "outputs": [
    {
     "data": {
      "text/plain": [
       "[<matplotlib.lines.Line2D at 0x22e2046160>]"
      ]
     },
     "execution_count": 22,
     "metadata": {},
     "output_type": "execute_result"
    },
    {
     "data": {
      "image/png": "[encoded data removed]",
      "text/plain": [
       "<matplotlib.figure.Figure at 0x22e20afeb8>"
      ]
     },
     "metadata": {},
     "output_type": "display_data"
    }
   ],
   "source": [
    "plt.plot(rawdata_XY.Var2, rawdata_XY.Var3, 'ko', markersize=10)"
   ]
  },
  {
   "cell_type": "markdown",
   "metadata": {},
   "source": [
    "In this case we are comparing the final temperature of the experiment to the incident light flux. For this data there does not seem to be any correlation. What about the duration of the experiment, column 9?"
   ]
  },
  {
   "cell_type": "code",
   "execution_count": 23,
   "metadata": {
    "collapsed": true
   },
   "outputs": [],
   "source": [
    "rawdata_XY['DeltaT'] = rawdata_XY.Var3 - rawdata_XY.Var1"
   ]
  },
  {
   "cell_type": "code",
   "execution_count": 24,
   "metadata": {
    "collapsed": false
   },
   "outputs": [
    {
     "data": {
      "image/png": "[encoded data removed]",
      "text/plain": [
       "<matplotlib.figure.Figure at 0x22e2041518>"
      ]
     },
     "metadata": {},
     "output_type": "display_data"
    }
   ],
   "source": [
    "plt.plot(rawdata_XY.Var7, rawdata_XY.DeltaT, 'ko', markersize=10);"
   ]
  },
  {
   "cell_type": "markdown",
   "metadata": {},
   "source": [
    "Ah-ha! Now we are on to something! Although it is not entirely surprising that the longer you heat something the hotter it gets?! Similar to Excel it is also very easy to add a trend line or curve fit (linear or otherwise). To keep it completely generic we add our own function which is a linear expression (y = m*x + c) and determine the two parameters, m and c, in this case x is the experimental time. This does require the ScyPy module optimize:"
   ]
  },
  {
   "cell_type": "code",
   "execution_count": 25,
   "metadata": {
    "collapsed": true
   },
   "outputs": [],
   "source": [
    "import scipy.optimize as opt"
   ]
  },
  {
   "cell_type": "code",
   "execution_count": 26,
   "metadata": {
    "collapsed": false
   },
   "outputs": [
    {
     "name": "stdout",
     "output_type": "stream",
     "text": [
      "Optimization terminated successfully.\n",
      "         Current function value: 27.588163\n",
      "         Iterations: 80\n",
      "         Function evaluations: 150\n"
     ]
    },
    {
     "data": {
      "image/png": "[encoded data removed]",
      "text/plain": [
       "<matplotlib.figure.Figure at 0x22e2502e48>"
      ]
     },
     "metadata": {},
     "output_type": "display_data"
    }
   ],
   "source": [
    "#First define our x and y variables\n",
    "DeltaT = rawdata_XY.DeltaT\n",
    "ExpTime = rawdata_XY.Var7\n",
    "\n",
    "#Define our error function: in this case it is our prediction minus the real value\n",
    "def dofit(params):\n",
    "    err = abs((ExpTime*(params[0])+params[1])-DeltaT)\n",
    "    err_tot = np.sum(err)\n",
    "    return err_tot \n",
    "\n",
    "#Do the fit\n",
    "fit_params = opt.fmin(dofit, [0, 0], ftol=0.1, maxiter = 100);\n",
    "\n",
    "#Create the fit preditcion\n",
    "y_fit = fit_params[0]*ExpTime+fit_params[1]\n",
    "\n",
    "#Plot data and fit\n",
    "plt.plot(ExpTime, DeltaT, 'ko', markersize=10);\n",
    "plt.plot(ExpTime, y_fit);"
   ]
  },
  {
   "cell_type": "markdown",
   "metadata": {},
   "source": [
    "The calculation of the delta temperature is but one of an infinite number of calculations we could do. We can calculate the mass of the sample or the overall heating duty. We can then plot these new variables to gain more insight into our experimental results. Advanced tools allow us to visualize the data in many ways that make finding new relationships easy, thereby increasing our understanding of the process or phenomena. You'll find these tools in the advanced tutorial. \n",
    "\n",
    "Once you have your final set of variables, which can be raw measurements or calculations, we can apply the same \"beautification\" process we applied earlier to arrive at our standard plot which we can conveniently use to represent all our experimental data and convey our message to the reader. For the most part this involves adding labels, legends and annotations."
   ]
  },
  {
   "cell_type": "code",
   "execution_count": 27,
   "metadata": {
    "collapsed": false
   },
   "outputs": [
    {
     "data": {
      "image/png": "[encoded data removed]",
      "text/plain": [
       "<matplotlib.figure.Figure at 0x22e260acf8>"
      ]
     },
     "metadata": {},
     "output_type": "display_data"
    }
   ],
   "source": [
    "plt.plot(ExpTime, DeltaT, 'ko', markersize=10, label='Exp Data');\n",
    "plt.plot(ExpTime, y_fit, label='Linear Fit');\n",
    "plt.legend(loc=0, numpoints = 1, fontsize=20, prop={'size':15})\n",
    "plt.ylabel(u'∆ Temperature [°C]', fontsize=20)\n",
    "plt.xlabel('Time [min]', fontsize=20)\n",
    "plt.xlim(0, 650)\n",
    "plt.grid()\n",
    "plt.tick_params(axis='x', labelsize=16)\n",
    "plt.tick_params(axis='y', labelsize=16)\n",
    "plt.xticks(np.linspace(0,700,5));\n",
    "Rsqr = 'R$^2$ = {:.3}'.format(np.corrcoef(DeltaT,y_fit)[0,1])\n",
    "fit_str = 'y = {:.2}x + {:.2}'.format(*fit_params)\n",
    "plt.annotate(fit_str, xy=(165, 10), fontsize=14, arrowprops=dict(facecolor='black', shrink=0.05),\n",
    "            horizontalalignment='left', verticalalignment='bottom',)\n",
    "plt.annotate(Rsqr, xy=(175, 8.5), fontsize=14, arrowprops=dict(facecolor='black', shrink=0.05),\n",
    "            horizontalalignment='left', verticalalignment='bottom',)\n",
    "plt.tight_layout();"
   ]
  },
  {
   "cell_type": "markdown",
   "metadata": {},
   "source": [
    "Now you can easily convince everyone you did some excellent work!"
   ]
  },
  {
   "cell_type": "markdown",
   "metadata": {},
   "source": [
    "One last item which is of cardinal importance when plotting repeat experiments namely: the uncertainty bars. To plot these an experiment must have been repeated a minimum of three times. Based on this an average value and standard deviation can be calculated. One standard deviation above and below the average represents the 95% confidence interval (**not** the 96% data interval for a normal distribution, i.e. 2${\\sigma}$). To add this to a plot we use the *plt.errorbar* function. For example, in the previous tests, experiment 1,2 and 3 were each repeated five times. Lets plot the final temperatures for these three experiments with their uncertainties:"
   ]
  },
  {
   "cell_type": "code",
   "execution_count": 28,
   "metadata": {
    "collapsed": false
   },
   "outputs": [],
   "source": [
    "repeats = rawdata_XY.where(rawdata_XY.Experiment.isin([1, 2, 3])) # find experiments 1, 2 and 3\n",
    "grouped = repeats.groupby('Experiment').Var3.agg({'mean': np.mean, 'std': np.std}) # calculate means and stds"
   ]
  },
  {
   "cell_type": "code",
   "execution_count": 29,
   "metadata": {
    "collapsed": true
   },
   "outputs": [],
   "source": [
    "x_data = grouped.index.tolist()\n",
    "y_data = grouped['mean'].tolist()\n",
    "y_err = grouped['std'].tolist()"
   ]
  },
  {
   "cell_type": "code",
   "execution_count": 34,
   "metadata": {
    "collapsed": false
   },
   "outputs": [
    {
     "data": {
      "image/png": "[encoded data removed]",
      "text/plain": [
       "<matplotlib.figure.Figure at 0x22e21896a0>"
      ]
     },
     "metadata": {},
     "output_type": "display_data"
    }
   ],
   "source": [
    "#Plot\n",
    "plt.plot(x_data, y_data, 'ko', markersize=10);\n",
    "#Add errorbars\n",
    "plt.errorbar(x_data, y_data, yerr=y_err, ecolor='k', linestyle=\"None\")\n",
    "# #Beatify\n",
    "plt.ylabel('Final Temperature [$^{\\circ}$C]', fontsize=18)\n",
    "plt.xlabel('Experiment', fontsize=18)\n",
    "plt.ylim(20,40)\n",
    "plt.xlim(0,4)\n",
    "plt.grid()\n",
    "plt.tick_params(axis='x', labelsize=16)\n",
    "plt.tick_params(axis='y', labelsize=16)\n",
    "plt.yticks([20, 25, 30, 35])\n",
    "plt.xticks([1, 2, 3]);"
   ]
  },
  {
   "cell_type": "markdown",
   "metadata": {},
   "source": [
    "Here is the equivalent calculation without Pandas."
   ]
  },
  {
   "cell_type": "code",
   "execution_count": 31,
   "metadata": {
    "collapsed": true
   },
   "outputs": [],
   "source": [
    "rawdata_XY = np.genfromtxt('RawData.csv', delimiter=',')"
   ]
  },
  {
   "cell_type": "code",
   "execution_count": 32,
   "metadata": {
    "collapsed": false
   },
   "outputs": [],
   "source": [
    "#Define the three experiments\n",
    "x_data = [1,2,3]\n",
    "y_data = [0,0,0]\n",
    "y_err = [0,0,0]\n",
    "#Calculate the average values of the final temperature (Column 5) for each of the 5 repeats for each experiment\n",
    "y_data[0] = np.mean(rawdata_XY[3:8,4])\n",
    "y_data[1] = np.mean(rawdata_XY[8:13,4])\n",
    "y_data[2] = np.mean(rawdata_XY[13:18,4])\n",
    "#Calculate the standard deviations \n",
    "y_err[0] = np.std(rawdata_XY[3:8,4])\n",
    "y_err[1] = np.std(rawdata_XY[8:13,4])\n",
    "y_err[2] = np.std(rawdata_XY[13:18,4])"
   ]
  },
  {
   "cell_type": "code",
   "execution_count": 35,
   "metadata": {
    "collapsed": false
   },
   "outputs": [
    {
     "data": {
      "image/png": "[encoded data removed]",
      "text/plain": [
       "<matplotlib.figure.Figure at 0x22e1d067f0>"
      ]
     },
     "metadata": {},
     "output_type": "display_data"
    }
   ],
   "source": [
    "#Plot\n",
    "plt.plot(x_data, y_data, 'ko', markersize=10);\n",
    "#Add errorbars\n",
    "plt.errorbar(x_data, y_data, yerr=y_err, ecolor='k', linestyle=\"None\")\n",
    "# #Beatify\n",
    "plt.ylabel('Final Temperature [$^{\\circ}$C]', fontsize=18)\n",
    "plt.xlabel('Experiment', fontsize=18)\n",
    "plt.ylim(20,40)\n",
    "plt.xlim(0,4)\n",
    "plt.grid()\n",
    "plt.tick_params(axis='x', labelsize=16)\n",
    "plt.tick_params(axis='y', labelsize=16)\n",
    "plt.yticks([20, 25, 30, 35])\n",
    "plt.xticks([1, 2, 3]);"
   ]
  },
  {
   "cell_type": "markdown",
   "metadata": {},
   "source": [
    "We have covered many ways in which to clearly and consistently communicate your results, well done! But now there is no excuse for plotting your results in a way no one can understand (despite sometimes wanting to) or to find trends which are somewhat too... artistic?\n",
    "\n",
    "<img style=\"float:left\"  src=\"F6.png\">\n",
    "<div style=\"clear: both;\"></div>\n",
    "\n"
   ]
  },
  {
   "cell_type": "code",
   "execution_count": null,
   "metadata": {
    "collapsed": true
   },
   "outputs": [],
   "source": []
  },
  {
   "cell_type": "code",
   "execution_count": null,
   "metadata": {
    "collapsed": true
   },
   "outputs": [],
   "source": []
  },
  {
   "cell_type": "code",
   "execution_count": null,
   "metadata": {
    "collapsed": true
   },
   "outputs": [],
   "source": []
  },
  {
   "cell_type": "code",
   "execution_count": null,
   "metadata": {
    "collapsed": true
   },
   "outputs": [],
   "source": [
    "Baie good stuff hier: https://github.com/jbmouret/matplotlib_for_papers\n",
    "\n",
    "Onder andere, let op hoe mens maklik die plot size en font size kan stel met \n",
    "\n",
    "params = {\n",
    "   'axes.labelsize': 8,\n",
    "   'text.fontsize': 8,\n",
    "   'legend.fontsize': 10,\n",
    "   'xtick.labelsize': 10,\n",
    "   'ytick.labelsize': 10,\n",
    "   'text.usetex': False,\n",
    "   'figure.figsize': [2.5, 4.5]\n",
    "}\n",
    "rcParams.update(params)\n",
    "\n",
    "\n",
    "Dis heelwat beter as om die stuff te micro-manage in die plot commands."
   ]
  }
 ],
 "metadata": {
  "anaconda-cloud": {},
  "kernelspec": {
   "display_name": "Python [Root]",
   "language": "python",
   "name": "Python [Root]"
  },
  "language_info": {
   "codemirror_mode": {
    "name": "ipython",
    "version": 3
   },
   "file_extension": ".py",
   "mimetype": "text/x-python",
   "name": "python",
   "nbconvert_exporter": "python",
   "pygments_lexer": "ipython3",
   "version": "3.5.2"
  }
 },
 "nbformat": 4,
 "nbformat_minor": 1
}
